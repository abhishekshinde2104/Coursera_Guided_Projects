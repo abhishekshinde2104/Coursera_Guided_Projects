{
 "cells": [
  {
   "cell_type": "code",
   "execution_count": null,
   "metadata": {},
   "outputs": [],
   "source": [
    "# Import Libraries\n",
    "import numpy as np\n",
    "import cv2\n",
    "\n",
    "\n",
    "# Function\n",
    "# x,y, flags, param are feed from OpenCV automaticaly\n",
    "\n",
    "def draw_circle(event,x,y,flags,param):\n",
    "    #left click\n",
    "    if event == cv2.EVENT_LBUTTONDOWN:\n",
    "        cv2.circle(img,(x,y),70,(35,69,78),-1)#img,coordinates,radius,color,thickness\n",
    "    \n",
    "    #right click\n",
    "    if event == cv2.EVENT_RBUTTONDOWN:\n",
    "        cv2.circle(img,(x,y),50,(251,179,218),-1)\n",
    "\n",
    "\n",
    "\n",
    "# Connect the Function with the Callback\n",
    "cv2.namedWindow(winname='My_Drawing')\n",
    "\n",
    "\n",
    "# Callback\n",
    "cv2.setMouseCallback('My_Drawing',draw_circle)\n",
    "\n",
    "# Using OpenCV to show the Image\n",
    "img=np.zeros((512,512,3),dtype=np.int8)\n",
    "\n",
    "while True:\n",
    "    cv2.imshow('My_drawing',img)\n",
    "    \n",
    "    if cv2.waitKey(5) & 0xFF==('q'):\n",
    "        break\n",
    "\n",
    "cv2.destroyAllWindows()\n"
   ]
  },
  {
   "cell_type": "code",
   "execution_count": null,
   "metadata": {},
   "outputs": [],
   "source": []
  }
 ],
 "metadata": {
  "kernelspec": {
   "display_name": "Python 3",
   "language": "python",
   "name": "python3"
  },
  "language_info": {
   "codemirror_mode": {
    "name": "ipython",
    "version": 3
   },
   "file_extension": ".py",
   "mimetype": "text/x-python",
   "name": "python",
   "nbconvert_exporter": "python",
   "pygments_lexer": "ipython3",
   "version": "3.7.3"
  }
 },
 "nbformat": 4,
 "nbformat_minor": 4
}
